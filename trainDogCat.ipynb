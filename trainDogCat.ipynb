{
  "cells": [
    {
      "cell_type": "markdown",
      "metadata": {
        "id": "abRNUshGkERl"
      },
      "source": [
        "## GPU Check"
      ]
    },
    {
      "cell_type": "code",
      "execution_count": 1,
      "metadata": {
        "colab": {
          "base_uri": "https://localhost:8080/"
        },
        "id": "Bj3utd9hhu6h",
        "outputId": "3894d68e-f235-4dd6-e837-41139675fe5a"
      },
      "outputs": [
        {
          "name": "stdout",
          "output_type": "stream",
          "text": [
            "Sun Oct 30 11:16:59 2022       \n",
            "+-----------------------------------------------------------------------------+\n",
            "| NVIDIA-SMI 515.65.01    Driver Version: 515.65.01    CUDA Version: 11.7     |\n",
            "|-------------------------------+----------------------+----------------------+\n",
            "| GPU  Name        Persistence-M| Bus-Id        Disp.A | Volatile Uncorr. ECC |\n",
            "| Fan  Temp  Perf  Pwr:Usage/Cap|         Memory-Usage | GPU-Util  Compute M. |\n",
            "|                               |                      |               MIG M. |\n",
            "|===============================+======================+======================|\n",
            "|   0  NVIDIA GeForce ...  On   | 00000000:03:00.0  On |                  N/A |\n",
            "| 26%   56C    P0    48W / 175W |   3159MiB /  8192MiB |     13%      Default |\n",
            "|                               |                      |                  N/A |\n",
            "+-------------------------------+----------------------+----------------------+\n",
            "                                                                               \n",
            "+-----------------------------------------------------------------------------+\n",
            "| Processes:                                                                  |\n",
            "|  GPU   GI   CI        PID   Type   Process name                  GPU Memory |\n",
            "|        ID   ID                                                   Usage      |\n",
            "|=============================================================================|\n",
            "|    0   N/A  N/A      3280      G   /usr/lib/xorg/Xorg               1541MiB |\n",
            "|    0   N/A  N/A      3426      G   /usr/bin/gnome-shell               93MiB |\n",
            "|    0   N/A  N/A      4037      G   ...AAAAAAAAA= --shared-files       90MiB |\n",
            "|    0   N/A  N/A      5614      G   ...able-features=LiveCaption      257MiB |\n",
            "|    0   N/A  N/A     45858      G   ...RendererForSitePerProcess     1031MiB |\n",
            "|    0   N/A  N/A     49610      G   ...RendererForSitePerProcess      141MiB |\n",
            "+-----------------------------------------------------------------------------+\n"
          ]
        }
      ],
      "source": [
        "gpu_info = !nvidia-smi\n",
        "gpu_info = '\\n'.join(gpu_info)\n",
        "if gpu_info.find('failed') >= 0:\n",
        "  print('Not connected to a GPU')\n",
        "else:\n",
        "  print(gpu_info)"
      ]
    },
    {
      "cell_type": "markdown",
      "metadata": {
        "id": "7onhw0j5kJbd"
      },
      "source": [
        "## Install Gradio"
      ]
    },
    {
      "cell_type": "code",
      "execution_count": 2,
      "metadata": {
        "colab": {
          "base_uri": "https://localhost:8080/"
        },
        "id": "1Pf-ER3Uiv9l",
        "outputId": "fe730240-d327-4d78-b80e-7f2f77feed73"
      },
      "outputs": [
        {
          "name": "stdout",
          "output_type": "stream",
          "text": [
            "Requirement already satisfied: gradio in /home/thomas/.local/lib/python3.8/site-packages (3.1.1)\n",
            "Requirement already satisfied: httpx in /home/thomas/.local/lib/python3.8/site-packages (from gradio) (0.23.0)\n",
            "Requirement already satisfied: paramiko in /home/thomas/miniconda3/envs/dogcat/lib/python3.8/site-packages (from gradio) (2.11.0)\n",
            "Requirement already satisfied: uvicorn in /home/thomas/.local/lib/python3.8/site-packages (from gradio) (0.18.2)\n",
            "Requirement already satisfied: requests in /home/thomas/miniconda3/envs/dogcat/lib/python3.8/site-packages (from gradio) (2.28.1)\n",
            "Requirement already satisfied: markdown-it-py[linkify,plugins] in /home/thomas/.local/lib/python3.8/site-packages (from gradio) (2.1.0)\n",
            "Requirement already satisfied: fastapi in /home/thomas/.local/lib/python3.8/site-packages (from gradio) (0.79.0)\n",
            "Requirement already satisfied: pillow in /home/thomas/miniconda3/envs/dogcat/lib/python3.8/site-packages (from gradio) (9.1.0)\n",
            "Requirement already satisfied: python-multipart in /home/thomas/.local/lib/python3.8/site-packages (from gradio) (0.0.5)\n",
            "Requirement already satisfied: ffmpy in /home/thomas/.local/lib/python3.8/site-packages (from gradio) (0.3.0)\n",
            "Requirement already satisfied: orjson in /home/thomas/.local/lib/python3.8/site-packages (from gradio) (3.7.8)\n",
            "Requirement already satisfied: pycryptodome in /home/thomas/.local/lib/python3.8/site-packages (from gradio) (3.15.0)\n",
            "Requirement already satisfied: Jinja2 in /home/thomas/.local/lib/python3.8/site-packages (from gradio) (3.1.2)\n",
            "Requirement already satisfied: pandas in /home/thomas/miniconda3/envs/dogcat/lib/python3.8/site-packages (from gradio) (1.5.1)\n",
            "Requirement already satisfied: pydantic in /home/thomas/.local/lib/python3.8/site-packages (from gradio) (1.9.1)\n",
            "Requirement already satisfied: matplotlib in /home/thomas/miniconda3/envs/dogcat/lib/python3.8/site-packages (from gradio) (3.6.1)\n",
            "Requirement already satisfied: pydub in /home/thomas/.local/lib/python3.8/site-packages (from gradio) (0.25.1)\n",
            "Requirement already satisfied: fsspec in /home/thomas/.local/lib/python3.8/site-packages (from gradio) (2022.5.0)\n",
            "Requirement already satisfied: h11<0.13,>=0.11 in /home/thomas/.local/lib/python3.8/site-packages (from gradio) (0.12.0)\n",
            "Requirement already satisfied: aiohttp in /home/thomas/.local/lib/python3.8/site-packages (from gradio) (3.8.1)\n",
            "Requirement already satisfied: analytics-python in /home/thomas/.local/lib/python3.8/site-packages (from gradio) (1.4.0)\n",
            "Requirement already satisfied: numpy in /home/thomas/miniconda3/envs/dogcat/lib/python3.8/site-packages (from gradio) (1.23.4)\n",
            "Requirement already satisfied: charset-normalizer<3.0,>=2.0 in /home/thomas/.local/lib/python3.8/site-packages (from aiohttp->gradio) (2.1.0)\n",
            "Requirement already satisfied: yarl<2.0,>=1.0 in /home/thomas/.local/lib/python3.8/site-packages (from aiohttp->gradio) (1.7.2)\n",
            "Requirement already satisfied: multidict<7.0,>=4.5 in /home/thomas/.local/lib/python3.8/site-packages (from aiohttp->gradio) (6.0.2)\n",
            "Requirement already satisfied: attrs>=17.3.0 in /home/thomas/miniconda3/envs/dogcat/lib/python3.8/site-packages (from aiohttp->gradio) (22.1.0)\n",
            "Requirement already satisfied: frozenlist>=1.1.1 in /home/thomas/.local/lib/python3.8/site-packages (from aiohttp->gradio) (1.3.0)\n",
            "Requirement already satisfied: aiosignal>=1.1.2 in /home/thomas/.local/lib/python3.8/site-packages (from aiohttp->gradio) (1.2.0)\n",
            "Requirement already satisfied: async-timeout<5.0,>=4.0.0a3 in /home/thomas/.local/lib/python3.8/site-packages (from aiohttp->gradio) (4.0.2)\n",
            "Requirement already satisfied: six>=1.5 in /home/thomas/miniconda3/envs/dogcat/lib/python3.8/site-packages (from analytics-python->gradio) (1.16.0)\n",
            "Requirement already satisfied: backoff==1.10.0 in /home/thomas/.local/lib/python3.8/site-packages (from analytics-python->gradio) (1.10.0)\n",
            "Requirement already satisfied: python-dateutil>2.1 in /home/thomas/.local/lib/python3.8/site-packages (from analytics-python->gradio) (2.8.2)\n",
            "Requirement already satisfied: monotonic>=1.5 in /home/thomas/miniconda3/envs/dogcat/lib/python3.8/site-packages (from analytics-python->gradio) (1.6)\n",
            "Requirement already satisfied: urllib3<1.27,>=1.21.1 in /home/thomas/miniconda3/envs/dogcat/lib/python3.8/site-packages (from requests->gradio) (1.26.12)\n",
            "Requirement already satisfied: idna<4,>=2.5 in /home/thomas/miniconda3/envs/dogcat/lib/python3.8/site-packages (from requests->gradio) (3.4)\n",
            "Requirement already satisfied: certifi>=2017.4.17 in /home/thomas/miniconda3/envs/dogcat/lib/python3.8/site-packages (from requests->gradio) (2022.9.24)\n",
            "Requirement already satisfied: starlette==0.19.1 in /home/thomas/.local/lib/python3.8/site-packages (from fastapi->gradio) (0.19.1)\n",
            "Requirement already satisfied: typing-extensions>=3.10.0 in /home/thomas/.local/lib/python3.8/site-packages (from starlette==0.19.1->fastapi->gradio) (4.3.0)\n",
            "Requirement already satisfied: anyio<5,>=3.4.0 in /home/thomas/.local/lib/python3.8/site-packages (from starlette==0.19.1->fastapi->gradio) (3.6.1)\n",
            "Requirement already satisfied: sniffio in /home/thomas/.local/lib/python3.8/site-packages (from httpx->gradio) (1.2.0)\n",
            "Requirement already satisfied: rfc3986[idna2008]<2,>=1.3 in /home/thomas/.local/lib/python3.8/site-packages (from httpx->gradio) (1.5.0)\n",
            "Requirement already satisfied: httpcore<0.16.0,>=0.15.0 in /home/thomas/.local/lib/python3.8/site-packages (from httpx->gradio) (0.15.0)\n",
            "Requirement already satisfied: MarkupSafe>=2.0 in /home/thomas/.local/lib/python3.8/site-packages (from Jinja2->gradio) (2.1.1)\n",
            "Requirement already satisfied: mdurl~=0.1 in /home/thomas/.local/lib/python3.8/site-packages (from markdown-it-py[linkify,plugins]->gradio) (0.1.1)\n",
            "Requirement already satisfied: linkify-it-py~=1.0 in /home/thomas/.local/lib/python3.8/site-packages (from markdown-it-py[linkify,plugins]->gradio) (1.0.3)\n",
            "Requirement already satisfied: mdit-py-plugins in /home/thomas/.local/lib/python3.8/site-packages (from markdown-it-py[linkify,plugins]->gradio) (0.3.0)\n",
            "Requirement already satisfied: cycler>=0.10 in /home/thomas/miniconda3/envs/dogcat/lib/python3.8/site-packages (from matplotlib->gradio) (0.11.0)\n",
            "Requirement already satisfied: pyparsing>=2.2.1 in /home/thomas/miniconda3/envs/dogcat/lib/python3.8/site-packages (from matplotlib->gradio) (3.0.9)\n",
            "Requirement already satisfied: kiwisolver>=1.0.1 in /home/thomas/miniconda3/envs/dogcat/lib/python3.8/site-packages (from matplotlib->gradio) (1.4.4)\n",
            "Requirement already satisfied: fonttools>=4.22.0 in /home/thomas/miniconda3/envs/dogcat/lib/python3.8/site-packages (from matplotlib->gradio) (4.38.0)\n",
            "Requirement already satisfied: contourpy>=1.0.1 in /home/thomas/miniconda3/envs/dogcat/lib/python3.8/site-packages (from matplotlib->gradio) (1.0.5)\n",
            "Requirement already satisfied: packaging>=20.0 in /home/thomas/.local/lib/python3.8/site-packages (from matplotlib->gradio) (21.3)\n",
            "Requirement already satisfied: pytz>=2020.1 in /home/thomas/miniconda3/envs/dogcat/lib/python3.8/site-packages (from pandas->gradio) (2022.5)\n",
            "Requirement already satisfied: pynacl>=1.0.1 in /home/thomas/miniconda3/envs/dogcat/lib/python3.8/site-packages (from paramiko->gradio) (1.5.0)\n",
            "Requirement already satisfied: cryptography>=2.5 in /home/thomas/miniconda3/envs/dogcat/lib/python3.8/site-packages (from paramiko->gradio) (38.0.1)\n",
            "Requirement already satisfied: bcrypt>=3.1.3 in /home/thomas/miniconda3/envs/dogcat/lib/python3.8/site-packages (from paramiko->gradio) (4.0.1)\n",
            "Requirement already satisfied: click>=7.0 in /home/thomas/.local/lib/python3.8/site-packages (from uvicorn->gradio) (8.1.3)\n",
            "Requirement already satisfied: cffi>=1.12 in /home/thomas/miniconda3/envs/dogcat/lib/python3.8/site-packages (from cryptography>=2.5->paramiko->gradio) (1.15.1)\n",
            "Requirement already satisfied: uc-micro-py in /home/thomas/.local/lib/python3.8/site-packages (from linkify-it-py~=1.0->markdown-it-py[linkify,plugins]->gradio) (1.0.1)\n",
            "Requirement already satisfied: pycparser in /home/thomas/miniconda3/envs/dogcat/lib/python3.8/site-packages (from cffi>=1.12->cryptography>=2.5->paramiko->gradio) (2.21)\n"
          ]
        }
      ],
      "source": [
        "! pip install gradio"
      ]
    },
    {
      "cell_type": "markdown",
      "metadata": {
        "id": "6PtjDSNMk39S"
      },
      "source": [
        "## Aggregate, process, clean, label, and version data"
      ]
    },
    {
      "cell_type": "code",
      "execution_count": 3,
      "metadata": {
        "colab": {
          "base_uri": "https://localhost:8080/",
          "height": 303,
          "referenced_widgets": [
            "03b5d8d7c0e342edaf1bf8c0dae84706",
            "76d0f00d16204d5e807a1fdde62d2b9f",
            "85ce2407c68d478c88b238f77919ddd7",
            "245826af4628483bb74015f45c5e52cf",
            "4290384c4c8e4ba0929fcfd9c3183861",
            "6139fd52cac140289bc2f3dfdeb28003",
            "3c08c26d91574ca1ae9d9738fc0294e0",
            "1cf6d579c80a481d87ca48651bf14aed",
            "d7916a66c6c74f38a78ac8ae5b45521a",
            "81f3a190007c4d099b6c8973aaaa7023",
            "334cea03105d4886ac4e689c907dd543"
          ]
        },
        "id": "FD1OBFNshXD3",
        "outputId": "aca8824c-aac5-4e49-910c-1da414b3fe27"
      },
      "outputs": [],
      "source": [
        "from fastai.vision.all import *\n",
        "path = untar_data(URLs.PETS)\n",
        "files = get_image_files(path/\"images\")\n",
        "def is_cat(x): return x[0].isupper() \n",
        "dls = ImageDataLoaders.from_name_func(\n",
        "    path,\n",
        "    files,\n",
        "    pat='(.+)_\\d+.jpg',\n",
        "    splitter=RandomSplitter(valid_pct=0.2, seed=42),\n",
        "    label_func=is_cat, \n",
        "    item_tfms=Resize(192),\n",
        "    batch_tfms=aug_transforms(size=224, min_scale=0.75))"
      ]
    },
    {
      "cell_type": "markdown",
      "metadata": {
        "id": "_17JIq8glHTs"
      },
      "source": [
        "## Find model arch and weights / Write and debug model code"
      ]
    },
    {
      "cell_type": "code",
      "execution_count": 4,
      "metadata": {
        "id": "YwdkNpnak2T0"
      },
      "outputs": [
        {
          "name": "stderr",
          "output_type": "stream",
          "text": [
            "/home/thomas/miniconda3/envs/dogcat/lib/python3.8/site-packages/torchvision/models/_utils.py:135: UserWarning: Using 'weights' as positional parameter(s) is deprecated since 0.13 and will be removed in 0.15. Please use keyword parameter(s) instead.\n",
            "  warnings.warn(\n",
            "/home/thomas/miniconda3/envs/dogcat/lib/python3.8/site-packages/torchvision/models/_utils.py:223: UserWarning: Arguments other than a weight enum or `None` for 'weights' are deprecated since 0.13 and will be removed in 0.15. The current behavior is equivalent to passing `weights=ResNet18_Weights.IMAGENET1K_V1`. You can also use `weights=ResNet18_Weights.DEFAULT` to get the most up-to-date weights.\n",
            "  warnings.warn(msg)\n"
          ]
        },
        {
          "data": {
            "text/html": [
              "\n",
              "<style>\n",
              "    /* Turns off some styling */\n",
              "    progress {\n",
              "        /* gets rid of default border in Firefox and Opera. */\n",
              "        border: none;\n",
              "        /* Needs to be in here for Safari polyfill so background images work as expected. */\n",
              "        background-size: auto;\n",
              "    }\n",
              "    progress:not([value]), progress:not([value])::-webkit-progress-bar {\n",
              "        background: repeating-linear-gradient(45deg, #7e7e7e, #7e7e7e 10px, #5c5c5c 10px, #5c5c5c 20px);\n",
              "    }\n",
              "    .progress-bar-interrupted, .progress-bar-interrupted::-webkit-progress-bar {\n",
              "        background: #F44336;\n",
              "    }\n",
              "</style>\n"
            ],
            "text/plain": [
              "<IPython.core.display.HTML object>"
            ]
          },
          "metadata": {},
          "output_type": "display_data"
        },
        {
          "data": {
            "text/html": [
              "<table border=\"1\" class=\"dataframe\">\n",
              "  <thead>\n",
              "    <tr style=\"text-align: left;\">\n",
              "      <th>epoch</th>\n",
              "      <th>train_loss</th>\n",
              "      <th>valid_loss</th>\n",
              "      <th>error_rate</th>\n",
              "      <th>time</th>\n",
              "    </tr>\n",
              "  </thead>\n",
              "  <tbody>\n",
              "    <tr>\n",
              "      <td>0</td>\n",
              "      <td>0.205011</td>\n",
              "      <td>0.059007</td>\n",
              "      <td>0.022327</td>\n",
              "      <td>00:14</td>\n",
              "    </tr>\n",
              "  </tbody>\n",
              "</table>"
            ],
            "text/plain": [
              "<IPython.core.display.HTML object>"
            ]
          },
          "metadata": {},
          "output_type": "display_data"
        },
        {
          "data": {
            "text/html": [
              "\n",
              "<style>\n",
              "    /* Turns off some styling */\n",
              "    progress {\n",
              "        /* gets rid of default border in Firefox and Opera. */\n",
              "        border: none;\n",
              "        /* Needs to be in here for Safari polyfill so background images work as expected. */\n",
              "        background-size: auto;\n",
              "    }\n",
              "    progress:not([value]), progress:not([value])::-webkit-progress-bar {\n",
              "        background: repeating-linear-gradient(45deg, #7e7e7e, #7e7e7e 10px, #5c5c5c 10px, #5c5c5c 20px);\n",
              "    }\n",
              "    .progress-bar-interrupted, .progress-bar-interrupted::-webkit-progress-bar {\n",
              "        background: #F44336;\n",
              "    }\n",
              "</style>\n"
            ],
            "text/plain": [
              "<IPython.core.display.HTML object>"
            ]
          },
          "metadata": {},
          "output_type": "display_data"
        },
        {
          "data": {
            "text/html": [
              "<table border=\"1\" class=\"dataframe\">\n",
              "  <thead>\n",
              "    <tr style=\"text-align: left;\">\n",
              "      <th>epoch</th>\n",
              "      <th>train_loss</th>\n",
              "      <th>valid_loss</th>\n",
              "      <th>error_rate</th>\n",
              "      <th>time</th>\n",
              "    </tr>\n",
              "  </thead>\n",
              "  <tbody>\n",
              "    <tr>\n",
              "      <td>0</td>\n",
              "      <td>0.075619</td>\n",
              "      <td>0.028657</td>\n",
              "      <td>0.012179</td>\n",
              "      <td>00:18</td>\n",
              "    </tr>\n",
              "  </tbody>\n",
              "</table>"
            ],
            "text/plain": [
              "<IPython.core.display.HTML object>"
            ]
          },
          "metadata": {},
          "output_type": "display_data"
        }
      ],
      "source": [
        "learn = vision_learner(dls, resnet18, metrics=error_rate)\n",
        "learn.fine_tune(1)\n",
        "learn.path = Path('.')\n",
        "learn.export('model.pkl')"
      ]
    },
    {
      "cell_type": "markdown",
      "metadata": {
        "id": "RBxVHB9jlTGj"
      },
      "source": [
        "## Deploy model"
      ]
    },
    {
      "cell_type": "code",
      "execution_count": 5,
      "metadata": {
        "id": "wWaLAeHUhZ3A"
      },
      "outputs": [],
      "source": [
        "learn = load_learner('model.pkl')"
      ]
    },
    {
      "cell_type": "code",
      "execution_count": 6,
      "metadata": {
        "id": "YKRiQRudh_FY"
      },
      "outputs": [],
      "source": [
        "categories = ('Dog', 'Cat')"
      ]
    },
    {
      "cell_type": "code",
      "execution_count": 7,
      "metadata": {
        "id": "aIInhbiOh_xG"
      },
      "outputs": [],
      "source": [
        "def classify_image(img):\n",
        "    pred, idx, probs = learn.predict(img)\n",
        "    return dict(zip(categories, map(float, probs)))"
      ]
    },
    {
      "cell_type": "code",
      "execution_count": 8,
      "metadata": {
        "colab": {
          "base_uri": "https://localhost:8080/",
          "height": 836
        },
        "id": "8pOqkLe3igZp",
        "outputId": "b8d290b2-eac4-41c3-d14d-6a974ac701b9"
      },
      "outputs": [
        {
          "name": "stderr",
          "output_type": "stream",
          "text": [
            "/home/thomas/.local/lib/python3.8/site-packages/gradio/inputs.py:256: UserWarning: Usage of gradio.inputs is deprecated, and will not be supported in the future, please import your component from gradio.components\n",
            "  warnings.warn(\n",
            "/home/thomas/.local/lib/python3.8/site-packages/gradio/deprecation.py:40: UserWarning: `optional` parameter is deprecated, and it has no effect\n",
            "  warnings.warn(value)\n",
            "/home/thomas/.local/lib/python3.8/site-packages/gradio/outputs.py:196: UserWarning: Usage of gradio.outputs is deprecated, and will not be supported in the future, please import your components from gradio.components\n",
            "  warnings.warn(\n",
            "/home/thomas/.local/lib/python3.8/site-packages/gradio/deprecation.py:40: UserWarning: The 'type' parameter has been deprecated. Use the Number component instead.\n",
            "  warnings.warn(value)\n",
            "/home/thomas/.local/lib/python3.8/site-packages/gradio/deprecation.py:40: UserWarning: `enable_queue` is deprecated in `Interface()`, please use it within `launch()` instead.\n",
            "  warnings.warn(value)\n"
          ]
        },
        {
          "name": "stdout",
          "output_type": "stream",
          "text": [
            "Running on local URL:  http://127.0.0.1:7861/\n",
            "Running on public URL: https://afaa023163ce7d1f.gradio.app\n",
            "\n",
            "This share link expires in 72 hours. For free permanent hosting, check out Spaces (https://www.huggingface.co/spaces)\n"
          ]
        },
        {
          "data": {
            "text/html": [
              "<div><iframe src=\"https://afaa023163ce7d1f.gradio.app\" width=\"900\" height=\"500\" allow=\"autoplay; camera; microphone;\" frameborder=\"0\" allowfullscreen></iframe></div>"
            ],
            "text/plain": [
              "<IPython.core.display.HTML object>"
            ]
          },
          "metadata": {},
          "output_type": "display_data"
        },
        {
          "data": {
            "text/plain": [
              "(<gradio.routes.App at 0x7f3f6d85f730>,\n",
              " 'http://127.0.0.1:7861/',\n",
              " 'https://afaa023163ce7d1f.gradio.app')"
            ]
          },
          "execution_count": 8,
          "metadata": {},
          "output_type": "execute_result"
        },
        {
          "data": {
            "text/html": [
              "\n",
              "<style>\n",
              "    /* Turns off some styling */\n",
              "    progress {\n",
              "        /* gets rid of default border in Firefox and Opera. */\n",
              "        border: none;\n",
              "        /* Needs to be in here for Safari polyfill so background images work as expected. */\n",
              "        background-size: auto;\n",
              "    }\n",
              "    progress:not([value]), progress:not([value])::-webkit-progress-bar {\n",
              "        background: repeating-linear-gradient(45deg, #7e7e7e, #7e7e7e 10px, #5c5c5c 10px, #5c5c5c 20px);\n",
              "    }\n",
              "    .progress-bar-interrupted, .progress-bar-interrupted::-webkit-progress-bar {\n",
              "        background: #F44336;\n",
              "    }\n",
              "</style>\n"
            ],
            "text/plain": [
              "<IPython.core.display.HTML object>"
            ]
          },
          "metadata": {},
          "output_type": "display_data"
        },
        {
          "data": {
            "text/html": [],
            "text/plain": [
              "<IPython.core.display.HTML object>"
            ]
          },
          "metadata": {},
          "output_type": "display_data"
        },
        {
          "data": {
            "text/html": [
              "\n",
              "<style>\n",
              "    /* Turns off some styling */\n",
              "    progress {\n",
              "        /* gets rid of default border in Firefox and Opera. */\n",
              "        border: none;\n",
              "        /* Needs to be in here for Safari polyfill so background images work as expected. */\n",
              "        background-size: auto;\n",
              "    }\n",
              "    progress:not([value]), progress:not([value])::-webkit-progress-bar {\n",
              "        background: repeating-linear-gradient(45deg, #7e7e7e, #7e7e7e 10px, #5c5c5c 10px, #5c5c5c 20px);\n",
              "    }\n",
              "    .progress-bar-interrupted, .progress-bar-interrupted::-webkit-progress-bar {\n",
              "        background: #F44336;\n",
              "    }\n",
              "</style>\n"
            ],
            "text/plain": [
              "<IPython.core.display.HTML object>"
            ]
          },
          "metadata": {},
          "output_type": "display_data"
        },
        {
          "data": {
            "text/html": [],
            "text/plain": [
              "<IPython.core.display.HTML object>"
            ]
          },
          "metadata": {},
          "output_type": "display_data"
        },
        {
          "data": {
            "text/html": [
              "\n",
              "<style>\n",
              "    /* Turns off some styling */\n",
              "    progress {\n",
              "        /* gets rid of default border in Firefox and Opera. */\n",
              "        border: none;\n",
              "        /* Needs to be in here for Safari polyfill so background images work as expected. */\n",
              "        background-size: auto;\n",
              "    }\n",
              "    progress:not([value]), progress:not([value])::-webkit-progress-bar {\n",
              "        background: repeating-linear-gradient(45deg, #7e7e7e, #7e7e7e 10px, #5c5c5c 10px, #5c5c5c 20px);\n",
              "    }\n",
              "    .progress-bar-interrupted, .progress-bar-interrupted::-webkit-progress-bar {\n",
              "        background: #F44336;\n",
              "    }\n",
              "</style>\n"
            ],
            "text/plain": [
              "<IPython.core.display.HTML object>"
            ]
          },
          "metadata": {},
          "output_type": "display_data"
        },
        {
          "data": {
            "text/html": [],
            "text/plain": [
              "<IPython.core.display.HTML object>"
            ]
          },
          "metadata": {},
          "output_type": "display_data"
        }
      ],
      "source": [
        "#hide_output\n",
        "import gradio as gr\n",
        "\n",
        "image = gr.inputs.Image(shape=(192, 192))\n",
        "label = gr.outputs.Label()\n",
        "examples = ['Dog.jpg', 'cat.jpg', 'dunno.jpg']\n",
        "title = \"Dogs V Cats Classifier\"\n",
        "description = \"A classifier trained on the Oxford Pets dataset with fastai. Created as a demo for Gradio and HuggingFace Spaces.\"\n",
        "interpretation='default'\n",
        "enable_queue=True\n",
        "\n",
        "intf = gr.Interface(\n",
        "    fn=classify_image,\n",
        "    inputs=image,\n",
        "    outputs=label,\n",
        "    examples=examples,\n",
        "    title=title,\n",
        "    description=description,\n",
        "    interpretation=interpretation,\n",
        "    enable_queue=enable_queue\n",
        ")\n",
        "\n",
        "intf.launch(inline=True, share=True)"
      ]
    }
  ],
  "metadata": {
    "accelerator": "GPU",
    "colab": {
      "provenance": [],
      "toc_visible": true
    },
    "gpuClass": "standard",
    "kernelspec": {
      "display_name": "Python 3.7.13 ('dogcat')",
      "language": "python",
      "name": "python3"
    },
    "language_info": {
      "codemirror_mode": {
        "name": "ipython",
        "version": 3
      },
      "file_extension": ".py",
      "mimetype": "text/x-python",
      "name": "python",
      "nbconvert_exporter": "python",
      "pygments_lexer": "ipython3",
      "version": "3.8.13"
    },
    "vscode": {
      "interpreter": {
        "hash": "e77131ddaab795de50468c5361c798d97ffa570cea65fdcf88a195aa0a350bfd"
      }
    },
    "widgets": {
      "application/vnd.jupyter.widget-state+json": {
        "03b5d8d7c0e342edaf1bf8c0dae84706": {
          "model_module": "@jupyter-widgets/controls",
          "model_module_version": "1.5.0",
          "model_name": "HBoxModel",
          "state": {
            "_dom_classes": [],
            "_model_module": "@jupyter-widgets/controls",
            "_model_module_version": "1.5.0",
            "_model_name": "HBoxModel",
            "_view_count": null,
            "_view_module": "@jupyter-widgets/controls",
            "_view_module_version": "1.5.0",
            "_view_name": "HBoxView",
            "box_style": "",
            "children": [
              "IPY_MODEL_76d0f00d16204d5e807a1fdde62d2b9f",
              "IPY_MODEL_85ce2407c68d478c88b238f77919ddd7",
              "IPY_MODEL_245826af4628483bb74015f45c5e52cf"
            ],
            "layout": "IPY_MODEL_4290384c4c8e4ba0929fcfd9c3183861"
          }
        },
        "1cf6d579c80a481d87ca48651bf14aed": {
          "model_module": "@jupyter-widgets/base",
          "model_module_version": "1.2.0",
          "model_name": "LayoutModel",
          "state": {
            "_model_module": "@jupyter-widgets/base",
            "_model_module_version": "1.2.0",
            "_model_name": "LayoutModel",
            "_view_count": null,
            "_view_module": "@jupyter-widgets/base",
            "_view_module_version": "1.2.0",
            "_view_name": "LayoutView",
            "align_content": null,
            "align_items": null,
            "align_self": null,
            "border": null,
            "bottom": null,
            "display": null,
            "flex": null,
            "flex_flow": null,
            "grid_area": null,
            "grid_auto_columns": null,
            "grid_auto_flow": null,
            "grid_auto_rows": null,
            "grid_column": null,
            "grid_gap": null,
            "grid_row": null,
            "grid_template_areas": null,
            "grid_template_columns": null,
            "grid_template_rows": null,
            "height": null,
            "justify_content": null,
            "justify_items": null,
            "left": null,
            "margin": null,
            "max_height": null,
            "max_width": null,
            "min_height": null,
            "min_width": null,
            "object_fit": null,
            "object_position": null,
            "order": null,
            "overflow": null,
            "overflow_x": null,
            "overflow_y": null,
            "padding": null,
            "right": null,
            "top": null,
            "visibility": null,
            "width": null
          }
        },
        "245826af4628483bb74015f45c5e52cf": {
          "model_module": "@jupyter-widgets/controls",
          "model_module_version": "1.5.0",
          "model_name": "HTMLModel",
          "state": {
            "_dom_classes": [],
            "_model_module": "@jupyter-widgets/controls",
            "_model_module_version": "1.5.0",
            "_model_name": "HTMLModel",
            "_view_count": null,
            "_view_module": "@jupyter-widgets/controls",
            "_view_module_version": "1.5.0",
            "_view_name": "HTMLView",
            "description": "",
            "description_tooltip": null,
            "layout": "IPY_MODEL_81f3a190007c4d099b6c8973aaaa7023",
            "placeholder": "​",
            "style": "IPY_MODEL_334cea03105d4886ac4e689c907dd543",
            "value": " 44.7M/44.7M [00:01&lt;00:00, 31.3MB/s]"
          }
        },
        "334cea03105d4886ac4e689c907dd543": {
          "model_module": "@jupyter-widgets/controls",
          "model_module_version": "1.5.0",
          "model_name": "DescriptionStyleModel",
          "state": {
            "_model_module": "@jupyter-widgets/controls",
            "_model_module_version": "1.5.0",
            "_model_name": "DescriptionStyleModel",
            "_view_count": null,
            "_view_module": "@jupyter-widgets/base",
            "_view_module_version": "1.2.0",
            "_view_name": "StyleView",
            "description_width": ""
          }
        },
        "3c08c26d91574ca1ae9d9738fc0294e0": {
          "model_module": "@jupyter-widgets/controls",
          "model_module_version": "1.5.0",
          "model_name": "DescriptionStyleModel",
          "state": {
            "_model_module": "@jupyter-widgets/controls",
            "_model_module_version": "1.5.0",
            "_model_name": "DescriptionStyleModel",
            "_view_count": null,
            "_view_module": "@jupyter-widgets/base",
            "_view_module_version": "1.2.0",
            "_view_name": "StyleView",
            "description_width": ""
          }
        },
        "4290384c4c8e4ba0929fcfd9c3183861": {
          "model_module": "@jupyter-widgets/base",
          "model_module_version": "1.2.0",
          "model_name": "LayoutModel",
          "state": {
            "_model_module": "@jupyter-widgets/base",
            "_model_module_version": "1.2.0",
            "_model_name": "LayoutModel",
            "_view_count": null,
            "_view_module": "@jupyter-widgets/base",
            "_view_module_version": "1.2.0",
            "_view_name": "LayoutView",
            "align_content": null,
            "align_items": null,
            "align_self": null,
            "border": null,
            "bottom": null,
            "display": null,
            "flex": null,
            "flex_flow": null,
            "grid_area": null,
            "grid_auto_columns": null,
            "grid_auto_flow": null,
            "grid_auto_rows": null,
            "grid_column": null,
            "grid_gap": null,
            "grid_row": null,
            "grid_template_areas": null,
            "grid_template_columns": null,
            "grid_template_rows": null,
            "height": null,
            "justify_content": null,
            "justify_items": null,
            "left": null,
            "margin": null,
            "max_height": null,
            "max_width": null,
            "min_height": null,
            "min_width": null,
            "object_fit": null,
            "object_position": null,
            "order": null,
            "overflow": null,
            "overflow_x": null,
            "overflow_y": null,
            "padding": null,
            "right": null,
            "top": null,
            "visibility": null,
            "width": null
          }
        },
        "6139fd52cac140289bc2f3dfdeb28003": {
          "model_module": "@jupyter-widgets/base",
          "model_module_version": "1.2.0",
          "model_name": "LayoutModel",
          "state": {
            "_model_module": "@jupyter-widgets/base",
            "_model_module_version": "1.2.0",
            "_model_name": "LayoutModel",
            "_view_count": null,
            "_view_module": "@jupyter-widgets/base",
            "_view_module_version": "1.2.0",
            "_view_name": "LayoutView",
            "align_content": null,
            "align_items": null,
            "align_self": null,
            "border": null,
            "bottom": null,
            "display": null,
            "flex": null,
            "flex_flow": null,
            "grid_area": null,
            "grid_auto_columns": null,
            "grid_auto_flow": null,
            "grid_auto_rows": null,
            "grid_column": null,
            "grid_gap": null,
            "grid_row": null,
            "grid_template_areas": null,
            "grid_template_columns": null,
            "grid_template_rows": null,
            "height": null,
            "justify_content": null,
            "justify_items": null,
            "left": null,
            "margin": null,
            "max_height": null,
            "max_width": null,
            "min_height": null,
            "min_width": null,
            "object_fit": null,
            "object_position": null,
            "order": null,
            "overflow": null,
            "overflow_x": null,
            "overflow_y": null,
            "padding": null,
            "right": null,
            "top": null,
            "visibility": null,
            "width": null
          }
        },
        "76d0f00d16204d5e807a1fdde62d2b9f": {
          "model_module": "@jupyter-widgets/controls",
          "model_module_version": "1.5.0",
          "model_name": "HTMLModel",
          "state": {
            "_dom_classes": [],
            "_model_module": "@jupyter-widgets/controls",
            "_model_module_version": "1.5.0",
            "_model_name": "HTMLModel",
            "_view_count": null,
            "_view_module": "@jupyter-widgets/controls",
            "_view_module_version": "1.5.0",
            "_view_name": "HTMLView",
            "description": "",
            "description_tooltip": null,
            "layout": "IPY_MODEL_6139fd52cac140289bc2f3dfdeb28003",
            "placeholder": "​",
            "style": "IPY_MODEL_3c08c26d91574ca1ae9d9738fc0294e0",
            "value": "100%"
          }
        },
        "81f3a190007c4d099b6c8973aaaa7023": {
          "model_module": "@jupyter-widgets/base",
          "model_module_version": "1.2.0",
          "model_name": "LayoutModel",
          "state": {
            "_model_module": "@jupyter-widgets/base",
            "_model_module_version": "1.2.0",
            "_model_name": "LayoutModel",
            "_view_count": null,
            "_view_module": "@jupyter-widgets/base",
            "_view_module_version": "1.2.0",
            "_view_name": "LayoutView",
            "align_content": null,
            "align_items": null,
            "align_self": null,
            "border": null,
            "bottom": null,
            "display": null,
            "flex": null,
            "flex_flow": null,
            "grid_area": null,
            "grid_auto_columns": null,
            "grid_auto_flow": null,
            "grid_auto_rows": null,
            "grid_column": null,
            "grid_gap": null,
            "grid_row": null,
            "grid_template_areas": null,
            "grid_template_columns": null,
            "grid_template_rows": null,
            "height": null,
            "justify_content": null,
            "justify_items": null,
            "left": null,
            "margin": null,
            "max_height": null,
            "max_width": null,
            "min_height": null,
            "min_width": null,
            "object_fit": null,
            "object_position": null,
            "order": null,
            "overflow": null,
            "overflow_x": null,
            "overflow_y": null,
            "padding": null,
            "right": null,
            "top": null,
            "visibility": null,
            "width": null
          }
        },
        "85ce2407c68d478c88b238f77919ddd7": {
          "model_module": "@jupyter-widgets/controls",
          "model_module_version": "1.5.0",
          "model_name": "FloatProgressModel",
          "state": {
            "_dom_classes": [],
            "_model_module": "@jupyter-widgets/controls",
            "_model_module_version": "1.5.0",
            "_model_name": "FloatProgressModel",
            "_view_count": null,
            "_view_module": "@jupyter-widgets/controls",
            "_view_module_version": "1.5.0",
            "_view_name": "ProgressView",
            "bar_style": "success",
            "description": "",
            "description_tooltip": null,
            "layout": "IPY_MODEL_1cf6d579c80a481d87ca48651bf14aed",
            "max": 46830571,
            "min": 0,
            "orientation": "horizontal",
            "style": "IPY_MODEL_d7916a66c6c74f38a78ac8ae5b45521a",
            "value": 46830571
          }
        },
        "d7916a66c6c74f38a78ac8ae5b45521a": {
          "model_module": "@jupyter-widgets/controls",
          "model_module_version": "1.5.0",
          "model_name": "ProgressStyleModel",
          "state": {
            "_model_module": "@jupyter-widgets/controls",
            "_model_module_version": "1.5.0",
            "_model_name": "ProgressStyleModel",
            "_view_count": null,
            "_view_module": "@jupyter-widgets/base",
            "_view_module_version": "1.2.0",
            "_view_name": "StyleView",
            "bar_color": null,
            "description_width": ""
          }
        }
      }
    }
  },
  "nbformat": 4,
  "nbformat_minor": 0
}
